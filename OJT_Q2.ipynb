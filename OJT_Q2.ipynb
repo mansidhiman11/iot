{
  "nbformat": 4,
  "nbformat_minor": 0,
  "metadata": {
    "colab": {
      "provenance": []
    },
    "kernelspec": {
      "name": "python3",
      "display_name": "Python 3"
    },
    "language_info": {
      "name": "python"
    }
  },
  "cells": [
    {
      "cell_type": "markdown",
      "source": [
        "**Row Echelon Form**"
      ],
      "metadata": {
        "id": "WazjPS8yUhXQ"
      }
    },
    {
      "cell_type": "code",
      "execution_count": 50,
      "metadata": {
        "colab": {
          "base_uri": "https://localhost:8080/"
        },
        "id": "9sUliXeBMlOO",
        "outputId": "8dd11179-8f4e-44af-9d66-eca3edc4d578"
      },
      "outputs": [
        {
          "output_type": "stream",
          "name": "stdout",
          "text": [
            "[[9 3 4 0 9]\n",
            " [1 9 1 4 1]\n",
            " [8 2 4 2 5]\n",
            " [9 6 2 5 5]\n",
            " [1 4 5 0 2]]\n"
          ]
        }
      ],
      "source": [
        "import numpy as np\n",
        "import sympy as sp\n",
        "np.random.seed(6)\n",
        "A = np.random.randint(0,10,(5,5))\n",
        "print(A)"
      ]
    },
    {
      "cell_type": "code",
      "source": [
        "A=sp.Matrix(A)\n",
        "A"
      ],
      "metadata": {
        "colab": {
          "base_uri": "https://localhost:8080/",
          "height": 119
        },
        "id": "YFD6XpJ9NO7E",
        "outputId": "18cb38c7-b428-449c-8b22-efee4863fe33"
      },
      "execution_count": 51,
      "outputs": [
        {
          "output_type": "execute_result",
          "data": {
            "text/plain": [
              "Matrix([\n",
              "[9, 3, 4, 0, 9],\n",
              "[1, 9, 1, 4, 1],\n",
              "[8, 2, 4, 2, 5],\n",
              "[9, 6, 2, 5, 5],\n",
              "[1, 4, 5, 0, 2]])"
            ],
            "text/latex": "$\\displaystyle \\left[\\begin{matrix}9 & 3 & 4 & 0 & 9\\\\1 & 9 & 1 & 4 & 1\\\\8 & 2 & 4 & 2 & 5\\\\9 & 6 & 2 & 5 & 5\\\\1 & 4 & 5 & 0 & 2\\end{matrix}\\right]$"
          },
          "metadata": {},
          "execution_count": 51
        }
      ]
    },
    {
      "cell_type": "code",
      "source": [
        "A[1:2,0:5]=9*A[1:2,0:5]-A[0:1,0:5]\n",
        "A"
      ],
      "metadata": {
        "colab": {
          "base_uri": "https://localhost:8080/",
          "height": 119
        },
        "id": "jvu8xfvDNxLH",
        "outputId": "036a0e90-18c9-4210-bb37-b4732e0861d1"
      },
      "execution_count": 52,
      "outputs": [
        {
          "output_type": "execute_result",
          "data": {
            "text/plain": [
              "Matrix([\n",
              "[9,  3, 4,  0, 9],\n",
              "[0, 78, 5, 36, 0],\n",
              "[8,  2, 4,  2, 5],\n",
              "[9,  6, 2,  5, 5],\n",
              "[1,  4, 5,  0, 2]])"
            ],
            "text/latex": "$\\displaystyle \\left[\\begin{matrix}9 & 3 & 4 & 0 & 9\\\\0 & 78 & 5 & 36 & 0\\\\8 & 2 & 4 & 2 & 5\\\\9 & 6 & 2 & 5 & 5\\\\1 & 4 & 5 & 0 & 2\\end{matrix}\\right]$"
          },
          "metadata": {},
          "execution_count": 52
        }
      ]
    },
    {
      "cell_type": "code",
      "source": [
        "A[2:3,0:5]=9*A[2:3,0:5]-8*A[0:1,0:5]\n",
        "A"
      ],
      "metadata": {
        "colab": {
          "base_uri": "https://localhost:8080/",
          "height": 119
        },
        "id": "_p9b9n-UONF2",
        "outputId": "c59d0613-f31d-4bfb-d6c1-da6a7dbcc15f"
      },
      "execution_count": 53,
      "outputs": [
        {
          "output_type": "execute_result",
          "data": {
            "text/plain": [
              "Matrix([\n",
              "[9,  3, 4,  0,   9],\n",
              "[0, 78, 5, 36,   0],\n",
              "[0, -6, 4, 18, -27],\n",
              "[9,  6, 2,  5,   5],\n",
              "[1,  4, 5,  0,   2]])"
            ],
            "text/latex": "$\\displaystyle \\left[\\begin{matrix}9 & 3 & 4 & 0 & 9\\\\0 & 78 & 5 & 36 & 0\\\\0 & -6 & 4 & 18 & -27\\\\9 & 6 & 2 & 5 & 5\\\\1 & 4 & 5 & 0 & 2\\end{matrix}\\right]$"
          },
          "metadata": {},
          "execution_count": 53
        }
      ]
    },
    {
      "cell_type": "code",
      "source": [
        "A[3:4,0:5]=A[3:4,0:5]-A[0:1,0:5]\n",
        "A"
      ],
      "metadata": {
        "colab": {
          "base_uri": "https://localhost:8080/",
          "height": 119
        },
        "id": "NfKvAMNqQbBY",
        "outputId": "4376c171-a01c-4511-806d-008a9efdcfc0"
      },
      "execution_count": 54,
      "outputs": [
        {
          "output_type": "execute_result",
          "data": {
            "text/plain": [
              "Matrix([\n",
              "[9,  3,  4,  0,   9],\n",
              "[0, 78,  5, 36,   0],\n",
              "[0, -6,  4, 18, -27],\n",
              "[0,  3, -2,  5,  -4],\n",
              "[1,  4,  5,  0,   2]])"
            ],
            "text/latex": "$\\displaystyle \\left[\\begin{matrix}9 & 3 & 4 & 0 & 9\\\\0 & 78 & 5 & 36 & 0\\\\0 & -6 & 4 & 18 & -27\\\\0 & 3 & -2 & 5 & -4\\\\1 & 4 & 5 & 0 & 2\\end{matrix}\\right]$"
          },
          "metadata": {},
          "execution_count": 54
        }
      ]
    },
    {
      "cell_type": "code",
      "source": [
        "A[4:5,0:5]=9*A[4:5,0:5]-A[0:1,0:5]\n",
        "A"
      ],
      "metadata": {
        "colab": {
          "base_uri": "https://localhost:8080/",
          "height": 119
        },
        "id": "vvIEtrKlQlkA",
        "outputId": "b9b46e57-ff23-403b-d666-2fbed43a59e4"
      },
      "execution_count": 55,
      "outputs": [
        {
          "output_type": "execute_result",
          "data": {
            "text/plain": [
              "Matrix([\n",
              "[9,  3,  4,  0,   9],\n",
              "[0, 78,  5, 36,   0],\n",
              "[0, -6,  4, 18, -27],\n",
              "[0,  3, -2,  5,  -4],\n",
              "[0, 33, 41,  0,   9]])"
            ],
            "text/latex": "$\\displaystyle \\left[\\begin{matrix}9 & 3 & 4 & 0 & 9\\\\0 & 78 & 5 & 36 & 0\\\\0 & -6 & 4 & 18 & -27\\\\0 & 3 & -2 & 5 & -4\\\\0 & 33 & 41 & 0 & 9\\end{matrix}\\right]$"
          },
          "metadata": {},
          "execution_count": 55
        }
      ]
    },
    {
      "cell_type": "code",
      "source": [
        "A[2:3,0:5]=78*A[2:3,0:5]+6*A[1:2,0:5]\n",
        "A"
      ],
      "metadata": {
        "colab": {
          "base_uri": "https://localhost:8080/",
          "height": 119
        },
        "id": "yFZOt3pHQv7u",
        "outputId": "73dd4d31-a99f-403d-849c-b6bf62406ba2"
      },
      "execution_count": 56,
      "outputs": [
        {
          "output_type": "execute_result",
          "data": {
            "text/plain": [
              "Matrix([\n",
              "[9,  3,   4,    0,     9],\n",
              "[0, 78,   5,   36,     0],\n",
              "[0,  0, 342, 1620, -2106],\n",
              "[0,  3,  -2,    5,    -4],\n",
              "[0, 33,  41,    0,     9]])"
            ],
            "text/latex": "$\\displaystyle \\left[\\begin{matrix}9 & 3 & 4 & 0 & 9\\\\0 & 78 & 5 & 36 & 0\\\\0 & 0 & 342 & 1620 & -2106\\\\0 & 3 & -2 & 5 & -4\\\\0 & 33 & 41 & 0 & 9\\end{matrix}\\right]$"
          },
          "metadata": {},
          "execution_count": 56
        }
      ]
    },
    {
      "cell_type": "code",
      "source": [
        "A[3:4,0:5]=78*A[3:4,0:5]-3*A[1:2,0:5]\n",
        "A"
      ],
      "metadata": {
        "colab": {
          "base_uri": "https://localhost:8080/",
          "height": 119
        },
        "id": "6fB9RnM1SMUw",
        "outputId": "bc13d17e-eb6b-4225-b0f1-7147473230da"
      },
      "execution_count": 57,
      "outputs": [
        {
          "output_type": "execute_result",
          "data": {
            "text/plain": [
              "Matrix([\n",
              "[9,  3,    4,    0,     9],\n",
              "[0, 78,    5,   36,     0],\n",
              "[0,  0,  342, 1620, -2106],\n",
              "[0,  0, -171,  282,  -312],\n",
              "[0, 33,   41,    0,     9]])"
            ],
            "text/latex": "$\\displaystyle \\left[\\begin{matrix}9 & 3 & 4 & 0 & 9\\\\0 & 78 & 5 & 36 & 0\\\\0 & 0 & 342 & 1620 & -2106\\\\0 & 0 & -171 & 282 & -312\\\\0 & 33 & 41 & 0 & 9\\end{matrix}\\right]$"
          },
          "metadata": {},
          "execution_count": 57
        }
      ]
    },
    {
      "cell_type": "code",
      "source": [
        "A[4:5,0:5]=78*A[4:5,0:5]-33*A[1:2,0:5]\n",
        "A"
      ],
      "metadata": {
        "colab": {
          "base_uri": "https://localhost:8080/",
          "height": 119
        },
        "id": "9d_jo2wJSXer",
        "outputId": "d5930bfb-5501-43de-c0bd-4aa721292c01"
      },
      "execution_count": 58,
      "outputs": [
        {
          "output_type": "execute_result",
          "data": {
            "text/plain": [
              "Matrix([\n",
              "[9,  3,    4,     0,     9],\n",
              "[0, 78,    5,    36,     0],\n",
              "[0,  0,  342,  1620, -2106],\n",
              "[0,  0, -171,   282,  -312],\n",
              "[0,  0, 3033, -1188,   702]])"
            ],
            "text/latex": "$\\displaystyle \\left[\\begin{matrix}9 & 3 & 4 & 0 & 9\\\\0 & 78 & 5 & 36 & 0\\\\0 & 0 & 342 & 1620 & -2106\\\\0 & 0 & -171 & 282 & -312\\\\0 & 0 & 3033 & -1188 & 702\\end{matrix}\\right]$"
          },
          "metadata": {},
          "execution_count": 58
        }
      ]
    },
    {
      "cell_type": "code",
      "source": [
        "A[3:4,0:5]=342*A[3:4,0:5]+171*A[2:3,0:5]\n",
        "A"
      ],
      "metadata": {
        "colab": {
          "base_uri": "https://localhost:8080/",
          "height": 119
        },
        "id": "B7feq4RgSh1m",
        "outputId": "aa39fa71-2816-4f91-99d0-6d8746f9b19d"
      },
      "execution_count": 59,
      "outputs": [
        {
          "output_type": "execute_result",
          "data": {
            "text/plain": [
              "Matrix([\n",
              "[9,  3,    4,      0,       9],\n",
              "[0, 78,    5,     36,       0],\n",
              "[0,  0,  342,   1620,   -2106],\n",
              "[0,  0,    0, 373464, -466830],\n",
              "[0,  0, 3033,  -1188,     702]])"
            ],
            "text/latex": "$\\displaystyle \\left[\\begin{matrix}9 & 3 & 4 & 0 & 9\\\\0 & 78 & 5 & 36 & 0\\\\0 & 0 & 342 & 1620 & -2106\\\\0 & 0 & 0 & 373464 & -466830\\\\0 & 0 & 3033 & -1188 & 702\\end{matrix}\\right]$"
          },
          "metadata": {},
          "execution_count": 59
        }
      ]
    },
    {
      "cell_type": "code",
      "source": [
        "A[4:5,0:5]=342*A[4:5,0:5]-3033*A[2:3,0:5]\n",
        "A"
      ],
      "metadata": {
        "colab": {
          "base_uri": "https://localhost:8080/",
          "height": 119
        },
        "id": "krA5AwWvTht4",
        "outputId": "c9d3b502-cca2-47e3-b56a-4569561317bb"
      },
      "execution_count": 60,
      "outputs": [
        {
          "output_type": "execute_result",
          "data": {
            "text/plain": [
              "Matrix([\n",
              "[9,  3,   4,        0,       9],\n",
              "[0, 78,   5,       36,       0],\n",
              "[0,  0, 342,     1620,   -2106],\n",
              "[0,  0,   0,   373464, -466830],\n",
              "[0,  0,   0, -5319756, 6627582]])"
            ],
            "text/latex": "$\\displaystyle \\left[\\begin{matrix}9 & 3 & 4 & 0 & 9\\\\0 & 78 & 5 & 36 & 0\\\\0 & 0 & 342 & 1620 & -2106\\\\0 & 0 & 0 & 373464 & -466830\\\\0 & 0 & 0 & -5319756 & 6627582\\end{matrix}\\right]$"
          },
          "metadata": {},
          "execution_count": 60
        }
      ]
    },
    {
      "cell_type": "code",
      "source": [
        "A[4:5,0:5]=373464*A[4:5,0:5]+5319756*A[3:4,0:5]\n",
        "A"
      ],
      "metadata": {
        "colab": {
          "base_uri": "https://localhost:8080/",
          "height": 119
        },
        "id": "g756pL4vTy_2",
        "outputId": "5c591318-09a4-4951-d90d-aa8eff3c5b06"
      },
      "execution_count": 61,
      "outputs": [
        {
          "output_type": "execute_result",
          "data": {
            "text/plain": [
              "Matrix([\n",
              "[9,  3,   4,      0,           9],\n",
              "[0, 78,   5,     36,           0],\n",
              "[0,  0, 342,   1620,       -2106],\n",
              "[0,  0,   0, 373464,     -466830],\n",
              "[0,  0,   0,      0, -8258409432]])"
            ],
            "text/latex": "$\\displaystyle \\left[\\begin{matrix}9 & 3 & 4 & 0 & 9\\\\0 & 78 & 5 & 36 & 0\\\\0 & 0 & 342 & 1620 & -2106\\\\0 & 0 & 0 & 373464 & -466830\\\\0 & 0 & 0 & 0 & -8258409432\\end{matrix}\\right]$"
          },
          "metadata": {},
          "execution_count": 61
        }
      ]
    },
    {
      "cell_type": "code",
      "source": [],
      "metadata": {
        "id": "J0o5IttsUOj6"
      },
      "execution_count": null,
      "outputs": []
    }
  ]
}